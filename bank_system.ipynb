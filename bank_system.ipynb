{
  "cells": [
    {
      "cell_type": "code",
      "execution_count": 14,
      "metadata": {
        "id": "_M3RC242cwrs"
      },
      "outputs": [],
      "source": [
        "accounts = {\n",
        "    \"lojain\": 12500.75,\n",
        "    \"rodaina\": 8230.60,\n",
        "    \"arwa\": 15490,\n",
        "\n",
        "}"
      ]
    },
    {
      "cell_type": "code",
      "execution_count": 15,
      "metadata": {
        "id": "hSVoaTETdmjr"
      },
      "outputs": [],
      "source": [
        "\n",
        "def create_account(accounts):\n",
        "    name = input(\"Enter your username: \")\n",
        "\n",
        "    if name in accounts:\n",
        "        print(\"Account already exists\")\n",
        "        return\n",
        "\n",
        "    while True:\n",
        "        try:\n",
        "            balance = float(input(\"Enter your initial balance: \"))\n",
        "            if balance < 0:\n",
        "                print(\"Balance cannot be negative Please enter a valid amount\")\n",
        "            else:\n",
        "                accounts[name] = balance\n",
        "                print(f\"Account for '{name}' created with balance: {balance}\")\n",
        "                break\n",
        "        except ValueError:\n",
        "            print(\"Invalid input Please enter a numeric value\")\n",
        "\n",
        "\n",
        "\n",
        "\n"
      ]
    },
    {
      "cell_type": "code",
      "execution_count": 16,
      "metadata": {
        "id": "47F7QEtAgFa_"
      },
      "outputs": [],
      "source": [
        "def check_balance(accounts, name):\n",
        "    print(f\"{name}, your current balance is: {accounts[name]}\")"
      ]
    },
    {
      "cell_type": "code",
      "execution_count": 17,
      "metadata": {
        "id": "VmXPBDJcebVP"
      },
      "outputs": [],
      "source": [
        "\n",
        "def deposit(account, name):\n",
        "    if name not in account:\n",
        "        print(\"Account not found\")\n",
        "        return\n",
        "\n",
        "    while True:\n",
        "        try:\n",
        "            amount = float(input(\"Enter amount to deposit: \"))\n",
        "            if amount >= 0:\n",
        "                account[name] += amount\n",
        "                print(f\"{amount} deposited successfully\")\n",
        "                break\n",
        "            else:\n",
        "                print(\"Amount must be non-negative. Please try again\")\n",
        "        except ValueError:\n",
        "            print(\"Invalid input. Please enter a numeric value\")\n",
        "\n"
      ]
    },
    {
      "cell_type": "code",
      "execution_count": 18,
      "metadata": {
        "id": "7Wq3IqPigBXo"
      },
      "outputs": [],
      "source": [
        "def withdraw(account, name):\n",
        "    if name not in account:\n",
        "        print(\"Account not found\")\n",
        "        return\n",
        "\n",
        "    while True:\n",
        "        try:\n",
        "            amount = float(input(\"Enter amount to withdraw: \"))\n",
        "\n",
        "            if amount < 0:\n",
        "                print(\"Invalid amount. Please enter a non-negative value\")\n",
        "            elif amount > account[name]:\n",
        "                print(\"Insufficient balance. Please enter a smaller amount\")\n",
        "            else:\n",
        "                account[name] -= amount\n",
        "                print(f\"{amount} withdrawn successfully\")\n",
        "                print(f\"New balance: {account[name]}\")\n",
        "                break\n",
        "\n",
        "        except ValueError:\n",
        "            print(\"Invalid input. Please enter a numeric value\")\n",
        "\n"
      ]
    },
    {
      "cell_type": "code",
      "execution_count": 22,
      "metadata": {
        "colab": {
          "base_uri": "https://localhost:8080/"
        },
        "id": "WLhLKGLNoBoX",
        "outputId": "ab6003f5-c4f6-4041-e270-1ff4e4dda4bf"
      },
      "outputs": [
        {
          "output_type": "stream",
          "name": "stdout",
          "text": [
            "\n",
            "====== Welcome to Quantum Credit ======\n",
            "1. Add Account\n",
            "2. Show Balance\n",
            "3. Deposit\n",
            "4. Withdraw\n",
            "5. Exit\n",
            "Enter your choice (1-5): 1\n",
            "Enter your username: lojain\n",
            "Account already exists\n",
            "\n",
            "====== Welcome to Quantum Credit ======\n",
            "1. Add Account\n",
            "2. Show Balance\n",
            "3. Deposit\n",
            "4. Withdraw\n",
            "5. Exit\n",
            "Enter your choice (1-5): 1\n",
            "Enter your username: rody\n",
            "Enter your initial balance: 4000\n",
            "Account for 'rody' created with balance: 4000.0\n",
            "\n",
            "====== Welcome to Quantum Credit ======\n",
            "1. Add Account\n",
            "2. Show Balance\n",
            "3. Deposit\n",
            "4. Withdraw\n",
            "5. Exit\n",
            "Enter your choice (1-5): 2\n",
            "Enter your name: rody\n",
            "rody, your current balance is: 4000.0\n",
            "\n",
            "====== Welcome to Quantum Credit ======\n",
            "1. Add Account\n",
            "2. Show Balance\n",
            "3. Deposit\n",
            "4. Withdraw\n",
            "5. Exit\n",
            "Enter your choice (1-5): 3\n",
            "Enter your name: -4\n",
            "Account not found\n",
            "\n",
            "====== Welcome to Quantum Credit ======\n",
            "1. Add Account\n",
            "2. Show Balance\n",
            "3. Deposit\n",
            "4. Withdraw\n",
            "5. Exit\n",
            "Enter your choice (1-5): r\n",
            "Invalid choice. Please try again.\n",
            "\n",
            "====== Welcome to Quantum Credit ======\n",
            "1. Add Account\n",
            "2. Show Balance\n",
            "3. Deposit\n",
            "4. Withdraw\n",
            "5. Exit\n",
            "Enter your choice (1-5): 400\n",
            "Invalid choice. Please try again.\n",
            "\n",
            "====== Welcome to Quantum Credit ======\n",
            "1. Add Account\n",
            "2. Show Balance\n",
            "3. Deposit\n",
            "4. Withdraw\n",
            "5. Exit\n",
            "Enter your choice (1-5): 4\n",
            "Enter your name: rody\n",
            "Enter amount to withdraw: 3000000\n",
            "Insufficient balance. Please enter a smaller amount\n",
            "Enter amount to withdraw: 400\n",
            "400.0 withdrawn successfully\n",
            "New balance: 3600.0\n",
            "\n",
            "====== Welcome to Quantum Credit ======\n",
            "1. Add Account\n",
            "2. Show Balance\n",
            "3. Deposit\n",
            "4. Withdraw\n",
            "5. Exit\n",
            "Enter your choice (1-5): 5\n",
            "Thank you for banking with usrody Goodbye!\n"
          ]
        }
      ],
      "source": [
        "import random\n",
        "\n",
        "\n",
        "bank_names = [\"Future Bank\", \"SmartSaver\", \"PixelBank\", \"Quantum Credit\", \"NeoFinance\"]\n",
        "random_bank = random.choice(bank_names)\n",
        "\n",
        "\n",
        "while True:\n",
        "    print(f\"\\n====== Welcome to {random_bank} ======\")\n",
        "    print(\"1. Add Account\")\n",
        "    print(\"2. Show Balance\")\n",
        "    print(\"3. Deposit\")\n",
        "    print(\"4. Withdraw\")\n",
        "    print(\"5. Exit\")\n",
        "\n",
        "    choice = input(\"Enter your choice (1-5): \")\n",
        "\n",
        "    if choice == \"1\":\n",
        "        create_account(accounts)\n",
        "    elif choice == \"2\":\n",
        "        name = input(\"Enter your name: \")\n",
        "        check_balance(accounts,name)\n",
        "    elif choice == \"3\":\n",
        "        name = input(\"Enter your name: \")\n",
        "        deposit(accounts,name)\n",
        "    elif choice == \"4\":\n",
        "        name = input(\"Enter your name: \")\n",
        "        withdraw(accounts,name)\n",
        "    elif choice == \"5\":\n",
        "        print(f\"Thank you for banking with us {name} Goodbye!\")\n",
        "        break\n",
        "    else:\n",
        "        print(\"Invalid choice. Please try again.\")"
      ]
    }
  ],
  "metadata": {
    "colab": {
      "provenance": []
    },
    "kernelspec": {
      "display_name": "Python 3",
      "name": "python3"
    },
    "language_info": {
      "name": "python"
    }
  },
  "nbformat": 4,
  "nbformat_minor": 0
}